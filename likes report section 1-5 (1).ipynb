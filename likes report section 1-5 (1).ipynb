{
 "cells": [
  {
   "cell_type": "markdown",
   "id": "f2b4e3c4-85fc-4286-8e10-391606235a4a",
   "metadata": {
    "jp-MarkdownHeadingCollapsed": true
   },
   "source": [
    "## Likes report\n",
    "\n",
    "Madeline Lally\n",
    "9-21-2025\n",
    "likes report\n",
    "\n",
    "first part of assignment:\n",
    "I am using data downloaded from assignment, I did not create this data.\n",
    "It was created to collect the users liked posts from the content they interact with.\n",
    "This data was downloaded by the user from the actual app itself.\n",
    "I do not know if this data was tampered with or what the users privacy and tracking settings are.\n",
    "\n",
    "second part of assignment:\n",
    "For the second part of the assignment I used my personal saved posts data from instagram. The data has not been tampered with. This data was created to collect the data in my saved posts within the past year on instagram and what type of content and when they were posted. "
   ]
  },
  {
   "cell_type": "markdown",
   "id": "31d17b74-89b1-4638-aae8-14064f07b881",
   "metadata": {},
   "source": [
    "## section 1\n",
    "questions about data"
   ]
  },
  {
   "cell_type": "markdown",
   "id": "90b6a42e-27f3-46e3-b465-7fe6a12e7c3e",
   "metadata": {},
   "source": [
    "## section 2\n",
    "open and load the json file"
   ]
  },
  {
   "cell_type": "code",
   "execution_count": 18,
   "id": "e75e7edd-6451-4559-953d-29e7e68240f6",
   "metadata": {},
   "outputs": [],
   "source": [
    "#these are the imports we need\n",
    "import json\n",
    "import pandas as pd\n",
    "import matplotlib as plt"
   ]
  },
  {
   "cell_type": "code",
   "execution_count": 79,
   "id": "2c029f73-6a92-4c32-9153-40858424687c",
   "metadata": {},
   "outputs": [],
   "source": [
    "path = r\"/Users/madelinelally/Desktop/liked_posts-1.json\"\n",
    "with open(path) as l:\n",
    "    dict = json.load(l)"
   ]
  },
  {
   "cell_type": "markdown",
   "id": "ddb1e64f-5cfb-49a8-95fc-b38b154009d0",
   "metadata": {},
   "source": [
    "## section 3\n",
    "convert the data into dataframe object and assign it to a new variable using pandas dataframe function"
   ]
  },
  {
   "cell_type": "code",
   "execution_count": 81,
   "id": "11ffd957-272e-4d64-b558-21de055a83c5",
   "metadata": {},
   "outputs": [
    {
     "data": {
      "text/html": [
       "<div>\n",
       "<style scoped>\n",
       "    .dataframe tbody tr th:only-of-type {\n",
       "        vertical-align: middle;\n",
       "    }\n",
       "\n",
       "    .dataframe tbody tr th {\n",
       "        vertical-align: top;\n",
       "    }\n",
       "\n",
       "    .dataframe thead th {\n",
       "        text-align: right;\n",
       "    }\n",
       "</style>\n",
       "<table border=\"1\" class=\"dataframe\">\n",
       "  <thead>\n",
       "    <tr style=\"text-align: right;\">\n",
       "      <th></th>\n",
       "      <th>likes_media_likes</th>\n",
       "    </tr>\n",
       "  </thead>\n",
       "  <tbody>\n",
       "    <tr>\n",
       "      <th>0</th>\n",
       "      <td>{'title': 'philzphotos', 'string_list_data': [...</td>\n",
       "    </tr>\n",
       "    <tr>\n",
       "      <th>1</th>\n",
       "      <td>{'title': 'weave_n_wonder', 'string_list_data'...</td>\n",
       "    </tr>\n",
       "    <tr>\n",
       "      <th>2</th>\n",
       "      <td>{'title': 'weave_n_wonder', 'string_list_data'...</td>\n",
       "    </tr>\n",
       "    <tr>\n",
       "      <th>3</th>\n",
       "      <td>{'title': 'philzphotos', 'string_list_data': [...</td>\n",
       "    </tr>\n",
       "    <tr>\n",
       "      <th>4</th>\n",
       "      <td>{'title': 'weave_n_wonder', 'string_list_data'...</td>\n",
       "    </tr>\n",
       "  </tbody>\n",
       "</table>\n",
       "</div>"
      ],
      "text/plain": [
       "                                   likes_media_likes\n",
       "0  {'title': 'philzphotos', 'string_list_data': [...\n",
       "1  {'title': 'weave_n_wonder', 'string_list_data'...\n",
       "2  {'title': 'weave_n_wonder', 'string_list_data'...\n",
       "3  {'title': 'philzphotos', 'string_list_data': [...\n",
       "4  {'title': 'weave_n_wonder', 'string_list_data'..."
      ]
     },
     "execution_count": 81,
     "metadata": {},
     "output_type": "execute_result"
    }
   ],
   "source": [
    "df = pd.DataFrame(dict)\n",
    "df.head()"
   ]
  },
  {
   "cell_type": "code",
   "execution_count": 83,
   "id": "52ab2dd0-42f7-45d8-91cd-1b6ab48e88c4",
   "metadata": {
    "scrolled": true
   },
   "outputs": [
    {
     "data": {
      "text/plain": [
       "dict_keys(['likes_media_likes'])"
      ]
     },
     "execution_count": 83,
     "metadata": {},
     "output_type": "execute_result"
    }
   ],
   "source": [
    "dict.keys()"
   ]
  },
  {
   "cell_type": "code",
   "execution_count": 22,
   "id": "28167eaa-051a-4499-a2a4-1b18ca3f2b87",
   "metadata": {},
   "outputs": [
    {
     "data": {
      "text/html": [
       "<div>\n",
       "<style scoped>\n",
       "    .dataframe tbody tr th:only-of-type {\n",
       "        vertical-align: middle;\n",
       "    }\n",
       "\n",
       "    .dataframe tbody tr th {\n",
       "        vertical-align: top;\n",
       "    }\n",
       "\n",
       "    .dataframe thead th {\n",
       "        text-align: right;\n",
       "    }\n",
       "</style>\n",
       "<table border=\"1\" class=\"dataframe\">\n",
       "  <thead>\n",
       "    <tr style=\"text-align: right;\">\n",
       "      <th></th>\n",
       "      <th>title</th>\n",
       "      <th>string_list_data</th>\n",
       "    </tr>\n",
       "  </thead>\n",
       "  <tbody>\n",
       "    <tr>\n",
       "      <th>0</th>\n",
       "      <td>philzphotos</td>\n",
       "      <td>[{'href': 'https://www.instagram.com/p/DNbPB16...</td>\n",
       "    </tr>\n",
       "    <tr>\n",
       "      <th>1</th>\n",
       "      <td>weave_n_wonder</td>\n",
       "      <td>[{'href': 'https://www.instagram.com/reel/DNp7...</td>\n",
       "    </tr>\n",
       "    <tr>\n",
       "      <th>2</th>\n",
       "      <td>weave_n_wonder</td>\n",
       "      <td>[{'href': 'https://www.instagram.com/reel/DNoJ...</td>\n",
       "    </tr>\n",
       "    <tr>\n",
       "      <th>3</th>\n",
       "      <td>philzphotos</td>\n",
       "      <td>[{'href': 'https://www.instagram.com/p/DNQjPMY...</td>\n",
       "    </tr>\n",
       "    <tr>\n",
       "      <th>4</th>\n",
       "      <td>weave_n_wonder</td>\n",
       "      <td>[{'href': 'https://www.instagram.com/p/DMiZKYt...</td>\n",
       "    </tr>\n",
       "  </tbody>\n",
       "</table>\n",
       "</div>"
      ],
      "text/plain": [
       "            title                                   string_list_data\n",
       "0     philzphotos  [{'href': 'https://www.instagram.com/p/DNbPB16...\n",
       "1  weave_n_wonder  [{'href': 'https://www.instagram.com/reel/DNp7...\n",
       "2  weave_n_wonder  [{'href': 'https://www.instagram.com/reel/DNoJ...\n",
       "3     philzphotos  [{'href': 'https://www.instagram.com/p/DNQjPMY...\n",
       "4  weave_n_wonder  [{'href': 'https://www.instagram.com/p/DMiZKYt..."
      ]
     },
     "execution_count": 22,
     "metadata": {},
     "output_type": "execute_result"
    }
   ],
   "source": [
    "df_tidy = pd.DataFrame(dict['likes_media_likes'])\n",
    "df_tidy.head()"
   ]
  },
  {
   "cell_type": "markdown",
   "id": "5f9ea112-155d-4db3-b35a-5b36de2b7b21",
   "metadata": {},
   "source": [
    "## section 4\n"
   ]
  },
  {
   "cell_type": "code",
   "execution_count": 23,
   "id": "f033ef73-d5ea-4f31-9bd4-ea4960cc1269",
   "metadata": {},
   "outputs": [
    {
     "data": {
      "text/plain": [
       "[{'href': 'https://www.instagram.com/p/DNbPB16uDhg/',\n",
       "  'value': 'ð\\x9f\\x91\\x8d',\n",
       "  'timestamp': 1755861630}]"
      ]
     },
     "execution_count": 23,
     "metadata": {},
     "output_type": "execute_result"
    }
   ],
   "source": [
    "df_tidy['string_list_data'].iloc[0]"
   ]
  },
  {
   "cell_type": "code",
   "execution_count": 24,
   "id": "e3bb0bd7-7c6a-4270-87e2-5a0e7a1269cf",
   "metadata": {},
   "outputs": [
    {
     "data": {
      "text/plain": [
       "list"
      ]
     },
     "execution_count": 24,
     "metadata": {},
     "output_type": "execute_result"
    }
   ],
   "source": [
    "type(df_tidy['string_list_data'].iloc[0])"
   ]
  },
  {
   "cell_type": "code",
   "execution_count": 25,
   "id": "dc71679a-f661-4fd2-b473-f873521480b6",
   "metadata": {},
   "outputs": [
    {
     "data": {
      "text/plain": [
       "1"
      ]
     },
     "execution_count": 25,
     "metadata": {},
     "output_type": "execute_result"
    }
   ],
   "source": [
    "len(df_tidy['string_list_data'].iloc[0])"
   ]
  },
  {
   "cell_type": "code",
   "execution_count": 26,
   "id": "06bc72d6-906a-4486-9d78-46831b89aace",
   "metadata": {},
   "outputs": [
    {
     "data": {
      "text/plain": [
       "{'href': 'https://www.instagram.com/p/DNbPB16uDhg/',\n",
       " 'value': 'ð\\x9f\\x91\\x8d',\n",
       " 'timestamp': 1755861630}"
      ]
     },
     "execution_count": 26,
     "metadata": {},
     "output_type": "execute_result"
    }
   ],
   "source": [
    "df_tidy['string_list_data'].iloc[0][0]"
   ]
  },
  {
   "cell_type": "code",
   "execution_count": 27,
   "id": "7e2e33ab-3906-4ffe-8d02-f917587763ab",
   "metadata": {},
   "outputs": [
    {
     "data": {
      "text/plain": [
       "1755861630"
      ]
     },
     "execution_count": 27,
     "metadata": {},
     "output_type": "execute_result"
    }
   ],
   "source": [
    "df_tidy['string_list_data'].iloc[0][0]['timestamp']"
   ]
  },
  {
   "cell_type": "code",
   "execution_count": 28,
   "id": "3afbdf25-81bb-426d-bcb8-d1acaa1a7199",
   "metadata": {},
   "outputs": [
    {
     "data": {
      "text/html": [
       "<div>\n",
       "<style scoped>\n",
       "    .dataframe tbody tr th:only-of-type {\n",
       "        vertical-align: middle;\n",
       "    }\n",
       "\n",
       "    .dataframe tbody tr th {\n",
       "        vertical-align: top;\n",
       "    }\n",
       "\n",
       "    .dataframe thead th {\n",
       "        text-align: right;\n",
       "    }\n",
       "</style>\n",
       "<table border=\"1\" class=\"dataframe\">\n",
       "  <thead>\n",
       "    <tr style=\"text-align: right;\">\n",
       "      <th></th>\n",
       "      <th>title</th>\n",
       "      <th>string_list_data</th>\n",
       "      <th>Time of Like</th>\n",
       "    </tr>\n",
       "  </thead>\n",
       "  <tbody>\n",
       "    <tr>\n",
       "      <th>0</th>\n",
       "      <td>philzphotos</td>\n",
       "      <td>[{'href': 'https://www.instagram.com/p/DNbPB16...</td>\n",
       "      <td>1755861630</td>\n",
       "    </tr>\n",
       "    <tr>\n",
       "      <th>1</th>\n",
       "      <td>weave_n_wonder</td>\n",
       "      <td>[{'href': 'https://www.instagram.com/reel/DNp7...</td>\n",
       "      <td>1755861571</td>\n",
       "    </tr>\n",
       "    <tr>\n",
       "      <th>2</th>\n",
       "      <td>weave_n_wonder</td>\n",
       "      <td>[{'href': 'https://www.instagram.com/reel/DNoJ...</td>\n",
       "      <td>1755861568</td>\n",
       "    </tr>\n",
       "    <tr>\n",
       "      <th>3</th>\n",
       "      <td>philzphotos</td>\n",
       "      <td>[{'href': 'https://www.instagram.com/p/DNQjPMY...</td>\n",
       "      <td>1755173316</td>\n",
       "    </tr>\n",
       "    <tr>\n",
       "      <th>4</th>\n",
       "      <td>weave_n_wonder</td>\n",
       "      <td>[{'href': 'https://www.instagram.com/p/DMiZKYt...</td>\n",
       "      <td>1753462673</td>\n",
       "    </tr>\n",
       "  </tbody>\n",
       "</table>\n",
       "</div>"
      ],
      "text/plain": [
       "            title                                   string_list_data  \\\n",
       "0     philzphotos  [{'href': 'https://www.instagram.com/p/DNbPB16...   \n",
       "1  weave_n_wonder  [{'href': 'https://www.instagram.com/reel/DNp7...   \n",
       "2  weave_n_wonder  [{'href': 'https://www.instagram.com/reel/DNoJ...   \n",
       "3     philzphotos  [{'href': 'https://www.instagram.com/p/DNQjPMY...   \n",
       "4  weave_n_wonder  [{'href': 'https://www.instagram.com/p/DMiZKYt...   \n",
       "\n",
       "   Time of Like  \n",
       "0    1755861630  \n",
       "1    1755861571  \n",
       "2    1755861568  \n",
       "3    1755173316  \n",
       "4    1753462673  "
      ]
     },
     "execution_count": 28,
     "metadata": {},
     "output_type": "execute_result"
    }
   ],
   "source": [
    "df_tidy['Time of Like'] = [ i[0]['timestamp'] for i in df_tidy['string_list_data']]\n",
    "df_tidy.head()"
   ]
  },
  {
   "cell_type": "code",
   "execution_count": 29,
   "id": "2c1dc335-19c8-4561-a137-d95690e07a34",
   "metadata": {},
   "outputs": [],
   "source": [
    "# good to have\n",
    "from datetime import datetime\n",
    "df_tidy['Date of Like'] = [ datetime.fromtimestamp(i[0]['timestamp']) for i in df_tidy['string_list_data']]"
   ]
  },
  {
   "cell_type": "code",
   "execution_count": 30,
   "id": "98781497-fe42-45a8-a5b0-e267b3d46165",
   "metadata": {},
   "outputs": [
    {
     "data": {
      "text/html": [
       "<div>\n",
       "<style scoped>\n",
       "    .dataframe tbody tr th:only-of-type {\n",
       "        vertical-align: middle;\n",
       "    }\n",
       "\n",
       "    .dataframe tbody tr th {\n",
       "        vertical-align: top;\n",
       "    }\n",
       "\n",
       "    .dataframe thead th {\n",
       "        text-align: right;\n",
       "    }\n",
       "</style>\n",
       "<table border=\"1\" class=\"dataframe\">\n",
       "  <thead>\n",
       "    <tr style=\"text-align: right;\">\n",
       "      <th></th>\n",
       "      <th>title</th>\n",
       "      <th>string_list_data</th>\n",
       "      <th>Time of Like</th>\n",
       "      <th>Date of Like</th>\n",
       "    </tr>\n",
       "  </thead>\n",
       "  <tbody>\n",
       "    <tr>\n",
       "      <th>0</th>\n",
       "      <td>philzphotos</td>\n",
       "      <td>[{'href': 'https://www.instagram.com/p/DNbPB16...</td>\n",
       "      <td>1755861630</td>\n",
       "      <td>2025-08-22 07:20:30</td>\n",
       "    </tr>\n",
       "    <tr>\n",
       "      <th>1</th>\n",
       "      <td>weave_n_wonder</td>\n",
       "      <td>[{'href': 'https://www.instagram.com/reel/DNp7...</td>\n",
       "      <td>1755861571</td>\n",
       "      <td>2025-08-22 07:19:31</td>\n",
       "    </tr>\n",
       "    <tr>\n",
       "      <th>2</th>\n",
       "      <td>weave_n_wonder</td>\n",
       "      <td>[{'href': 'https://www.instagram.com/reel/DNoJ...</td>\n",
       "      <td>1755861568</td>\n",
       "      <td>2025-08-22 07:19:28</td>\n",
       "    </tr>\n",
       "    <tr>\n",
       "      <th>3</th>\n",
       "      <td>philzphotos</td>\n",
       "      <td>[{'href': 'https://www.instagram.com/p/DNQjPMY...</td>\n",
       "      <td>1755173316</td>\n",
       "      <td>2025-08-14 08:08:36</td>\n",
       "    </tr>\n",
       "    <tr>\n",
       "      <th>4</th>\n",
       "      <td>weave_n_wonder</td>\n",
       "      <td>[{'href': 'https://www.instagram.com/p/DMiZKYt...</td>\n",
       "      <td>1753462673</td>\n",
       "      <td>2025-07-25 12:57:53</td>\n",
       "    </tr>\n",
       "  </tbody>\n",
       "</table>\n",
       "</div>"
      ],
      "text/plain": [
       "            title                                   string_list_data  \\\n",
       "0     philzphotos  [{'href': 'https://www.instagram.com/p/DNbPB16...   \n",
       "1  weave_n_wonder  [{'href': 'https://www.instagram.com/reel/DNp7...   \n",
       "2  weave_n_wonder  [{'href': 'https://www.instagram.com/reel/DNoJ...   \n",
       "3     philzphotos  [{'href': 'https://www.instagram.com/p/DNQjPMY...   \n",
       "4  weave_n_wonder  [{'href': 'https://www.instagram.com/p/DMiZKYt...   \n",
       "\n",
       "   Time of Like        Date of Like  \n",
       "0    1755861630 2025-08-22 07:20:30  \n",
       "1    1755861571 2025-08-22 07:19:31  \n",
       "2    1755861568 2025-08-22 07:19:28  \n",
       "3    1755173316 2025-08-14 08:08:36  \n",
       "4    1753462673 2025-07-25 12:57:53  "
      ]
     },
     "execution_count": 30,
     "metadata": {},
     "output_type": "execute_result"
    }
   ],
   "source": [
    "df_tidy.head()"
   ]
  },
  {
   "cell_type": "code",
   "execution_count": 31,
   "id": "df4da39e-aa89-43c7-b23d-08d5f8a213e4",
   "metadata": {},
   "outputs": [
    {
     "data": {
      "text/html": [
       "<div>\n",
       "<style scoped>\n",
       "    .dataframe tbody tr th:only-of-type {\n",
       "        vertical-align: middle;\n",
       "    }\n",
       "\n",
       "    .dataframe tbody tr th {\n",
       "        vertical-align: top;\n",
       "    }\n",
       "\n",
       "    .dataframe thead th {\n",
       "        text-align: right;\n",
       "    }\n",
       "</style>\n",
       "<table border=\"1\" class=\"dataframe\">\n",
       "  <thead>\n",
       "    <tr style=\"text-align: right;\">\n",
       "      <th></th>\n",
       "      <th>title</th>\n",
       "      <th>string_list_data</th>\n",
       "      <th>Time of Like</th>\n",
       "      <th>Date of Like</th>\n",
       "      <th>href</th>\n",
       "    </tr>\n",
       "  </thead>\n",
       "  <tbody>\n",
       "    <tr>\n",
       "      <th>0</th>\n",
       "      <td>philzphotos</td>\n",
       "      <td>[{'href': 'https://www.instagram.com/p/DNbPB16...</td>\n",
       "      <td>1755861630</td>\n",
       "      <td>2025-08-22 07:20:30</td>\n",
       "      <td>https://www.instagram.com/p/DNbPB16uDhg/</td>\n",
       "    </tr>\n",
       "    <tr>\n",
       "      <th>1</th>\n",
       "      <td>weave_n_wonder</td>\n",
       "      <td>[{'href': 'https://www.instagram.com/reel/DNp7...</td>\n",
       "      <td>1755861571</td>\n",
       "      <td>2025-08-22 07:19:31</td>\n",
       "      <td>https://www.instagram.com/reel/DNp7wMTN6jP/</td>\n",
       "    </tr>\n",
       "    <tr>\n",
       "      <th>2</th>\n",
       "      <td>weave_n_wonder</td>\n",
       "      <td>[{'href': 'https://www.instagram.com/reel/DNoJ...</td>\n",
       "      <td>1755861568</td>\n",
       "      <td>2025-08-22 07:19:28</td>\n",
       "      <td>https://www.instagram.com/reel/DNoJNtQBV-W/</td>\n",
       "    </tr>\n",
       "    <tr>\n",
       "      <th>3</th>\n",
       "      <td>philzphotos</td>\n",
       "      <td>[{'href': 'https://www.instagram.com/p/DNQjPMY...</td>\n",
       "      <td>1755173316</td>\n",
       "      <td>2025-08-14 08:08:36</td>\n",
       "      <td>https://www.instagram.com/p/DNQjPMYOE8s/</td>\n",
       "    </tr>\n",
       "    <tr>\n",
       "      <th>4</th>\n",
       "      <td>weave_n_wonder</td>\n",
       "      <td>[{'href': 'https://www.instagram.com/p/DMiZKYt...</td>\n",
       "      <td>1753462673</td>\n",
       "      <td>2025-07-25 12:57:53</td>\n",
       "      <td>https://www.instagram.com/p/DMiZKYtMasb/</td>\n",
       "    </tr>\n",
       "  </tbody>\n",
       "</table>\n",
       "</div>"
      ],
      "text/plain": [
       "            title                                   string_list_data  \\\n",
       "0     philzphotos  [{'href': 'https://www.instagram.com/p/DNbPB16...   \n",
       "1  weave_n_wonder  [{'href': 'https://www.instagram.com/reel/DNp7...   \n",
       "2  weave_n_wonder  [{'href': 'https://www.instagram.com/reel/DNoJ...   \n",
       "3     philzphotos  [{'href': 'https://www.instagram.com/p/DNQjPMY...   \n",
       "4  weave_n_wonder  [{'href': 'https://www.instagram.com/p/DMiZKYt...   \n",
       "\n",
       "   Time of Like        Date of Like  \\\n",
       "0    1755861630 2025-08-22 07:20:30   \n",
       "1    1755861571 2025-08-22 07:19:31   \n",
       "2    1755861568 2025-08-22 07:19:28   \n",
       "3    1755173316 2025-08-14 08:08:36   \n",
       "4    1753462673 2025-07-25 12:57:53   \n",
       "\n",
       "                                          href  \n",
       "0     https://www.instagram.com/p/DNbPB16uDhg/  \n",
       "1  https://www.instagram.com/reel/DNp7wMTN6jP/  \n",
       "2  https://www.instagram.com/reel/DNoJNtQBV-W/  \n",
       "3     https://www.instagram.com/p/DNQjPMYOE8s/  \n",
       "4     https://www.instagram.com/p/DMiZKYtMasb/  "
      ]
     },
     "execution_count": 31,
     "metadata": {},
     "output_type": "execute_result"
    }
   ],
   "source": [
    "df_tidy['href'] = [ i[0]['href'] for i in df_tidy['string_list_data']]\n",
    "df_tidy.head()"
   ]
  },
  {
   "cell_type": "code",
   "execution_count": 32,
   "id": "f25734d5-c92b-48d2-a9b8-f37551194cc0",
   "metadata": {},
   "outputs": [
    {
     "data": {
      "text/html": [
       "<div>\n",
       "<style scoped>\n",
       "    .dataframe tbody tr th:only-of-type {\n",
       "        vertical-align: middle;\n",
       "    }\n",
       "\n",
       "    .dataframe tbody tr th {\n",
       "        vertical-align: top;\n",
       "    }\n",
       "\n",
       "    .dataframe thead th {\n",
       "        text-align: right;\n",
       "    }\n",
       "</style>\n",
       "<table border=\"1\" class=\"dataframe\">\n",
       "  <thead>\n",
       "    <tr style=\"text-align: right;\">\n",
       "      <th></th>\n",
       "      <th>title</th>\n",
       "      <th>string_list_data</th>\n",
       "      <th>Time of Like</th>\n",
       "      <th>Date of Like</th>\n",
       "      <th>href</th>\n",
       "      <th>value</th>\n",
       "    </tr>\n",
       "  </thead>\n",
       "  <tbody>\n",
       "    <tr>\n",
       "      <th>0</th>\n",
       "      <td>philzphotos</td>\n",
       "      <td>[{'href': 'https://www.instagram.com/p/DNbPB16...</td>\n",
       "      <td>1755861630</td>\n",
       "      <td>2025-08-22 07:20:30</td>\n",
       "      <td>https://www.instagram.com/p/DNbPB16uDhg/</td>\n",
       "      <td>ð</td>\n",
       "    </tr>\n",
       "    <tr>\n",
       "      <th>1</th>\n",
       "      <td>weave_n_wonder</td>\n",
       "      <td>[{'href': 'https://www.instagram.com/reel/DNp7...</td>\n",
       "      <td>1755861571</td>\n",
       "      <td>2025-08-22 07:19:31</td>\n",
       "      <td>https://www.instagram.com/reel/DNp7wMTN6jP/</td>\n",
       "      <td>ð</td>\n",
       "    </tr>\n",
       "    <tr>\n",
       "      <th>2</th>\n",
       "      <td>weave_n_wonder</td>\n",
       "      <td>[{'href': 'https://www.instagram.com/reel/DNoJ...</td>\n",
       "      <td>1755861568</td>\n",
       "      <td>2025-08-22 07:19:28</td>\n",
       "      <td>https://www.instagram.com/reel/DNoJNtQBV-W/</td>\n",
       "      <td>ð</td>\n",
       "    </tr>\n",
       "    <tr>\n",
       "      <th>3</th>\n",
       "      <td>philzphotos</td>\n",
       "      <td>[{'href': 'https://www.instagram.com/p/DNQjPMY...</td>\n",
       "      <td>1755173316</td>\n",
       "      <td>2025-08-14 08:08:36</td>\n",
       "      <td>https://www.instagram.com/p/DNQjPMYOE8s/</td>\n",
       "      <td>ð</td>\n",
       "    </tr>\n",
       "    <tr>\n",
       "      <th>4</th>\n",
       "      <td>weave_n_wonder</td>\n",
       "      <td>[{'href': 'https://www.instagram.com/p/DMiZKYt...</td>\n",
       "      <td>1753462673</td>\n",
       "      <td>2025-07-25 12:57:53</td>\n",
       "      <td>https://www.instagram.com/p/DMiZKYtMasb/</td>\n",
       "      <td>ð</td>\n",
       "    </tr>\n",
       "  </tbody>\n",
       "</table>\n",
       "</div>"
      ],
      "text/plain": [
       "            title                                   string_list_data  \\\n",
       "0     philzphotos  [{'href': 'https://www.instagram.com/p/DNbPB16...   \n",
       "1  weave_n_wonder  [{'href': 'https://www.instagram.com/reel/DNp7...   \n",
       "2  weave_n_wonder  [{'href': 'https://www.instagram.com/reel/DNoJ...   \n",
       "3     philzphotos  [{'href': 'https://www.instagram.com/p/DNQjPMY...   \n",
       "4  weave_n_wonder  [{'href': 'https://www.instagram.com/p/DMiZKYt...   \n",
       "\n",
       "   Time of Like        Date of Like  \\\n",
       "0    1755861630 2025-08-22 07:20:30   \n",
       "1    1755861571 2025-08-22 07:19:31   \n",
       "2    1755861568 2025-08-22 07:19:28   \n",
       "3    1755173316 2025-08-14 08:08:36   \n",
       "4    1753462673 2025-07-25 12:57:53   \n",
       "\n",
       "                                          href value  \n",
       "0     https://www.instagram.com/p/DNbPB16uDhg/  ð  \n",
       "1  https://www.instagram.com/reel/DNp7wMTN6jP/  ð  \n",
       "2  https://www.instagram.com/reel/DNoJNtQBV-W/  ð  \n",
       "3     https://www.instagram.com/p/DNQjPMYOE8s/  ð  \n",
       "4     https://www.instagram.com/p/DMiZKYtMasb/  ð  "
      ]
     },
     "execution_count": 32,
     "metadata": {},
     "output_type": "execute_result"
    }
   ],
   "source": [
    "df_tidy['value'] = [ i[0]['value'] for i in df_tidy['string_list_data']]\n",
    "df_tidy.head()"
   ]
  },
  {
   "cell_type": "code",
   "execution_count": 33,
   "id": "0da85b45-5637-4d3b-a4e5-ee3906e3096c",
   "metadata": {},
   "outputs": [
    {
     "data": {
      "text/html": [
       "<div>\n",
       "<style scoped>\n",
       "    .dataframe tbody tr th:only-of-type {\n",
       "        vertical-align: middle;\n",
       "    }\n",
       "\n",
       "    .dataframe tbody tr th {\n",
       "        vertical-align: top;\n",
       "    }\n",
       "\n",
       "    .dataframe thead th {\n",
       "        text-align: right;\n",
       "    }\n",
       "</style>\n",
       "<table border=\"1\" class=\"dataframe\">\n",
       "  <thead>\n",
       "    <tr style=\"text-align: right;\">\n",
       "      <th></th>\n",
       "      <th>title</th>\n",
       "      <th>Time of Like</th>\n",
       "      <th>Date of Like</th>\n",
       "      <th>href</th>\n",
       "      <th>value</th>\n",
       "    </tr>\n",
       "  </thead>\n",
       "  <tbody>\n",
       "    <tr>\n",
       "      <th>0</th>\n",
       "      <td>philzphotos</td>\n",
       "      <td>1755861630</td>\n",
       "      <td>2025-08-22 07:20:30</td>\n",
       "      <td>https://www.instagram.com/p/DNbPB16uDhg/</td>\n",
       "      <td>ð</td>\n",
       "    </tr>\n",
       "    <tr>\n",
       "      <th>1</th>\n",
       "      <td>weave_n_wonder</td>\n",
       "      <td>1755861571</td>\n",
       "      <td>2025-08-22 07:19:31</td>\n",
       "      <td>https://www.instagram.com/reel/DNp7wMTN6jP/</td>\n",
       "      <td>ð</td>\n",
       "    </tr>\n",
       "    <tr>\n",
       "      <th>2</th>\n",
       "      <td>weave_n_wonder</td>\n",
       "      <td>1755861568</td>\n",
       "      <td>2025-08-22 07:19:28</td>\n",
       "      <td>https://www.instagram.com/reel/DNoJNtQBV-W/</td>\n",
       "      <td>ð</td>\n",
       "    </tr>\n",
       "    <tr>\n",
       "      <th>3</th>\n",
       "      <td>philzphotos</td>\n",
       "      <td>1755173316</td>\n",
       "      <td>2025-08-14 08:08:36</td>\n",
       "      <td>https://www.instagram.com/p/DNQjPMYOE8s/</td>\n",
       "      <td>ð</td>\n",
       "    </tr>\n",
       "    <tr>\n",
       "      <th>4</th>\n",
       "      <td>weave_n_wonder</td>\n",
       "      <td>1753462673</td>\n",
       "      <td>2025-07-25 12:57:53</td>\n",
       "      <td>https://www.instagram.com/p/DMiZKYtMasb/</td>\n",
       "      <td>ð</td>\n",
       "    </tr>\n",
       "    <tr>\n",
       "      <th>5</th>\n",
       "      <td>nidhigoels</td>\n",
       "      <td>1748178260</td>\n",
       "      <td>2025-05-25 09:04:20</td>\n",
       "      <td>https://www.instagram.com/p/DJiamRARwut/</td>\n",
       "      <td>ð</td>\n",
       "    </tr>\n",
       "    <tr>\n",
       "      <th>6</th>\n",
       "      <td>somosreedutt</td>\n",
       "      <td>1748178257</td>\n",
       "      <td>2025-05-25 09:04:17</td>\n",
       "      <td>https://www.instagram.com/p/DJ7N-GJA-87/</td>\n",
       "      <td>ð</td>\n",
       "    </tr>\n",
       "    <tr>\n",
       "      <th>7</th>\n",
       "      <td>philzphotos</td>\n",
       "      <td>1748178213</td>\n",
       "      <td>2025-05-25 09:03:33</td>\n",
       "      <td>https://www.instagram.com/p/DJzVepWuNZd/</td>\n",
       "      <td>ð</td>\n",
       "    </tr>\n",
       "    <tr>\n",
       "      <th>8</th>\n",
       "      <td>philzphotos</td>\n",
       "      <td>1744057150</td>\n",
       "      <td>2025-04-07 16:19:10</td>\n",
       "      <td>https://www.instagram.com/p/DH9un-FMI8Y/</td>\n",
       "      <td>ð</td>\n",
       "    </tr>\n",
       "    <tr>\n",
       "      <th>9</th>\n",
       "      <td>philzphotos</td>\n",
       "      <td>1743338308</td>\n",
       "      <td>2025-03-30 08:38:28</td>\n",
       "      <td>https://www.instagram.com/p/DHUig05Mb4Q/</td>\n",
       "      <td>ð</td>\n",
       "    </tr>\n",
       "    <tr>\n",
       "      <th>10</th>\n",
       "      <td>urjya.co</td>\n",
       "      <td>1732683813</td>\n",
       "      <td>2024-11-27 00:03:33</td>\n",
       "      <td>https://www.instagram.com/reel/DCVzHn6OLMp/</td>\n",
       "      <td>ð</td>\n",
       "    </tr>\n",
       "    <tr>\n",
       "      <th>11</th>\n",
       "      <td>mauliksuchde</td>\n",
       "      <td>1727870969</td>\n",
       "      <td>2024-10-02 08:09:29</td>\n",
       "      <td>https://www.instagram.com/reel/DAepvyTySXm/</td>\n",
       "      <td>ð</td>\n",
       "    </tr>\n",
       "    <tr>\n",
       "      <th>12</th>\n",
       "      <td>philzphotos</td>\n",
       "      <td>1727223009</td>\n",
       "      <td>2024-09-24 20:10:09</td>\n",
       "      <td>https://www.instagram.com/reel/DAEJXOROhci/</td>\n",
       "      <td>ð</td>\n",
       "    </tr>\n",
       "    <tr>\n",
       "      <th>13</th>\n",
       "      <td>kabirbhatiatime</td>\n",
       "      <td>1727222908</td>\n",
       "      <td>2024-09-24 20:08:28</td>\n",
       "      <td>https://www.instagram.com/p/DAUX-c9p_5K/</td>\n",
       "      <td>ð</td>\n",
       "    </tr>\n",
       "  </tbody>\n",
       "</table>\n",
       "</div>"
      ],
      "text/plain": [
       "              title  Time of Like        Date of Like  \\\n",
       "0       philzphotos    1755861630 2025-08-22 07:20:30   \n",
       "1    weave_n_wonder    1755861571 2025-08-22 07:19:31   \n",
       "2    weave_n_wonder    1755861568 2025-08-22 07:19:28   \n",
       "3       philzphotos    1755173316 2025-08-14 08:08:36   \n",
       "4    weave_n_wonder    1753462673 2025-07-25 12:57:53   \n",
       "5        nidhigoels    1748178260 2025-05-25 09:04:20   \n",
       "6      somosreedutt    1748178257 2025-05-25 09:04:17   \n",
       "7       philzphotos    1748178213 2025-05-25 09:03:33   \n",
       "8       philzphotos    1744057150 2025-04-07 16:19:10   \n",
       "9       philzphotos    1743338308 2025-03-30 08:38:28   \n",
       "10         urjya.co    1732683813 2024-11-27 00:03:33   \n",
       "11     mauliksuchde    1727870969 2024-10-02 08:09:29   \n",
       "12      philzphotos    1727223009 2024-09-24 20:10:09   \n",
       "13  kabirbhatiatime    1727222908 2024-09-24 20:08:28   \n",
       "\n",
       "                                           href value  \n",
       "0      https://www.instagram.com/p/DNbPB16uDhg/  ð  \n",
       "1   https://www.instagram.com/reel/DNp7wMTN6jP/  ð  \n",
       "2   https://www.instagram.com/reel/DNoJNtQBV-W/  ð  \n",
       "3      https://www.instagram.com/p/DNQjPMYOE8s/  ð  \n",
       "4      https://www.instagram.com/p/DMiZKYtMasb/  ð  \n",
       "5      https://www.instagram.com/p/DJiamRARwut/  ð  \n",
       "6      https://www.instagram.com/p/DJ7N-GJA-87/  ð  \n",
       "7      https://www.instagram.com/p/DJzVepWuNZd/  ð  \n",
       "8      https://www.instagram.com/p/DH9un-FMI8Y/  ð  \n",
       "9      https://www.instagram.com/p/DHUig05Mb4Q/  ð  \n",
       "10  https://www.instagram.com/reel/DCVzHn6OLMp/  ð  \n",
       "11  https://www.instagram.com/reel/DAepvyTySXm/  ð  \n",
       "12  https://www.instagram.com/reel/DAEJXOROhci/  ð  \n",
       "13     https://www.instagram.com/p/DAUX-c9p_5K/  ð  "
      ]
     },
     "execution_count": 33,
     "metadata": {},
     "output_type": "execute_result"
    }
   ],
   "source": [
    "df_tidy.drop(columns = ['string_list_data'])"
   ]
  },
  {
   "cell_type": "markdown",
   "id": "e63b225a-a0ca-413d-9058-131c9ce944dc",
   "metadata": {},
   "source": [
    "## section 5"
   ]
  },
  {
   "cell_type": "code",
   "execution_count": 55,
   "id": "768b3bcc-8f79-4788-bdcf-6f84ab4a4b33",
   "metadata": {},
   "outputs": [
    {
     "data": {
      "text/html": [
       "<div>\n",
       "<style scoped>\n",
       "    .dataframe tbody tr th:only-of-type {\n",
       "        vertical-align: middle;\n",
       "    }\n",
       "\n",
       "    .dataframe tbody tr th {\n",
       "        vertical-align: top;\n",
       "    }\n",
       "\n",
       "    .dataframe thead th {\n",
       "        text-align: right;\n",
       "    }\n",
       "</style>\n",
       "<table border=\"1\" class=\"dataframe\">\n",
       "  <thead>\n",
       "    <tr style=\"text-align: right;\">\n",
       "      <th></th>\n",
       "      <th>string_list_data</th>\n",
       "      <th>Time of Like</th>\n",
       "      <th>Date of Like</th>\n",
       "      <th>href</th>\n",
       "      <th>value</th>\n",
       "    </tr>\n",
       "    <tr>\n",
       "      <th>title</th>\n",
       "      <th></th>\n",
       "      <th></th>\n",
       "      <th></th>\n",
       "      <th></th>\n",
       "      <th></th>\n",
       "    </tr>\n",
       "  </thead>\n",
       "  <tbody>\n",
       "    <tr>\n",
       "      <th>philzphotos</th>\n",
       "      <td>6</td>\n",
       "      <td>6</td>\n",
       "      <td>6</td>\n",
       "      <td>6</td>\n",
       "      <td>6</td>\n",
       "    </tr>\n",
       "    <tr>\n",
       "      <th>weave_n_wonder</th>\n",
       "      <td>3</td>\n",
       "      <td>3</td>\n",
       "      <td>3</td>\n",
       "      <td>3</td>\n",
       "      <td>3</td>\n",
       "    </tr>\n",
       "    <tr>\n",
       "      <th>kabirbhatiatime</th>\n",
       "      <td>1</td>\n",
       "      <td>1</td>\n",
       "      <td>1</td>\n",
       "      <td>1</td>\n",
       "      <td>1</td>\n",
       "    </tr>\n",
       "    <tr>\n",
       "      <th>mauliksuchde</th>\n",
       "      <td>1</td>\n",
       "      <td>1</td>\n",
       "      <td>1</td>\n",
       "      <td>1</td>\n",
       "      <td>1</td>\n",
       "    </tr>\n",
       "    <tr>\n",
       "      <th>nidhigoels</th>\n",
       "      <td>1</td>\n",
       "      <td>1</td>\n",
       "      <td>1</td>\n",
       "      <td>1</td>\n",
       "      <td>1</td>\n",
       "    </tr>\n",
       "    <tr>\n",
       "      <th>somosreedutt</th>\n",
       "      <td>1</td>\n",
       "      <td>1</td>\n",
       "      <td>1</td>\n",
       "      <td>1</td>\n",
       "      <td>1</td>\n",
       "    </tr>\n",
       "    <tr>\n",
       "      <th>urjya.co</th>\n",
       "      <td>1</td>\n",
       "      <td>1</td>\n",
       "      <td>1</td>\n",
       "      <td>1</td>\n",
       "      <td>1</td>\n",
       "    </tr>\n",
       "  </tbody>\n",
       "</table>\n",
       "</div>"
      ],
      "text/plain": [
       "                 string_list_data  Time of Like  Date of Like  href  value\n",
       "title                                                                     \n",
       "philzphotos                     6             6             6     6      6\n",
       "weave_n_wonder                  3             3             3     3      3\n",
       "kabirbhatiatime                 1             1             1     1      1\n",
       "mauliksuchde                    1             1             1     1      1\n",
       "nidhigoels                      1             1             1     1      1\n",
       "somosreedutt                    1             1             1     1      1\n",
       "urjya.co                        1             1             1     1      1"
      ]
     },
     "execution_count": 55,
     "metadata": {},
     "output_type": "execute_result"
    }
   ],
   "source": [
    "df_tidy.groupby('title').count().sort_values('Time of Like', ascending = False)"
   ]
  }
 ],
 "metadata": {
  "kernelspec": {
   "display_name": "Python [conda env:base] *",
   "language": "python",
   "name": "conda-base-py"
  },
  "language_info": {
   "codemirror_mode": {
    "name": "ipython",
    "version": 3
   },
   "file_extension": ".py",
   "mimetype": "text/x-python",
   "name": "python",
   "nbconvert_exporter": "python",
   "pygments_lexer": "ipython3",
   "version": "3.13.5"
  }
 },
 "nbformat": 4,
 "nbformat_minor": 5
}
