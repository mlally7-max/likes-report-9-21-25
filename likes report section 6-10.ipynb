{
 "cells": [
  {
   "cell_type": "markdown",
   "id": "eba877ba-cf72-4e5a-9441-96d154c3f4a0",
   "metadata": {},
   "source": [
    "## Likes report\n",
    "Madeline Lally 9-21-2025 likes report"
   ]
  },
  {
   "cell_type": "markdown",
   "id": "76363b2f-be7f-4a13-988c-c70229843a4e",
   "metadata": {},
   "source": [
    "## section 6\n",
    "A hypothesis \n",
    "I would believe to be true is that my saved posts will be higher for my personal interests than for my friends/personal relationships. I also believe that as of recently my saved posts will sway more in the favor of formula 1 more than any of my other interests."
   ]
  },
  {
   "cell_type": "markdown",
   "id": "ac9ef983-a735-48cc-98ff-71f174223786",
   "metadata": {
    "jp-MarkdownHeadingCollapsed": true
   },
   "source": [
    "## section 7\n",
    "This file contains my personal data showing that most of my sved posts are for my personal interests, specificaially formula 1, instead of my friends/personal relationships. The data has not been tampered with and was downloaded directly from my account on the instagram webite. The data is also secure as my instagram has never been hacked and the login has never been shared with anyone else."
   ]
  },
  {
   "cell_type": "markdown",
   "id": "0363746d-e296-4c0a-9a6e-a1845eb97ce3",
   "metadata": {},
   "source": [
    "## section 8"
   ]
  },
  {
   "cell_type": "code",
   "execution_count": 96,
   "id": "901b7caa-c670-4d1b-9758-da352c0a14c4",
   "metadata": {},
   "outputs": [],
   "source": [
    "import json\n",
    "import pandas as pd\n",
    "import matplotlib.pyplot as plt"
   ]
  },
  {
   "cell_type": "code",
   "execution_count": 102,
   "id": "a061751a-67cc-4790-9389-d89dddfa0b99",
   "metadata": {},
   "outputs": [],
   "source": [
    "path = r\"/Users/madelinelally/Desktop/instagram-maddielally_51-2025-09-17-zSIRqns9/your_instagram_activity/saved/saved_posts.json\"\n",
    "with open(path) as l:\n",
    "    dict = json.load(l)"
   ]
  },
  {
   "cell_type": "markdown",
   "id": "17649e9b-88fd-4d68-9c62-643475e0aaf7",
   "metadata": {},
   "source": [
    "## section 9\n",
    "convert the data into dataframe object and assign it to a new variable using pandas dataframe function"
   ]
  },
  {
   "cell_type": "code",
   "execution_count": 103,
   "id": "dd6e7094-eac0-431b-978d-23994885f902",
   "metadata": {},
   "outputs": [
    {
     "data": {
      "text/html": [
       "<div>\n",
       "<style scoped>\n",
       "    .dataframe tbody tr th:only-of-type {\n",
       "        vertical-align: middle;\n",
       "    }\n",
       "\n",
       "    .dataframe tbody tr th {\n",
       "        vertical-align: top;\n",
       "    }\n",
       "\n",
       "    .dataframe thead th {\n",
       "        text-align: right;\n",
       "    }\n",
       "</style>\n",
       "<table border=\"1\" class=\"dataframe\">\n",
       "  <thead>\n",
       "    <tr style=\"text-align: right;\">\n",
       "      <th></th>\n",
       "      <th>saved_saved_media</th>\n",
       "    </tr>\n",
       "  </thead>\n",
       "  <tbody>\n",
       "    <tr>\n",
       "      <th>0</th>\n",
       "      <td>{'title': 'deercleartt', 'string_map_data': {'...</td>\n",
       "    </tr>\n",
       "    <tr>\n",
       "      <th>1</th>\n",
       "      <td>{'title': 'velosbalkan', 'string_map_data': {'...</td>\n",
       "    </tr>\n",
       "    <tr>\n",
       "      <th>2</th>\n",
       "      <td>{'title': 'nagi_zoldyk', 'string_map_data': {'...</td>\n",
       "    </tr>\n",
       "    <tr>\n",
       "      <th>3</th>\n",
       "      <td>{'title': 'racing_incident', 'string_map_data'...</td>\n",
       "    </tr>\n",
       "    <tr>\n",
       "      <th>4</th>\n",
       "      <td>{'title': 'sudaraedits', 'string_map_data': {'...</td>\n",
       "    </tr>\n",
       "  </tbody>\n",
       "</table>\n",
       "</div>"
      ],
      "text/plain": [
       "                                   saved_saved_media\n",
       "0  {'title': 'deercleartt', 'string_map_data': {'...\n",
       "1  {'title': 'velosbalkan', 'string_map_data': {'...\n",
       "2  {'title': 'nagi_zoldyk', 'string_map_data': {'...\n",
       "3  {'title': 'racing_incident', 'string_map_data'...\n",
       "4  {'title': 'sudaraedits', 'string_map_data': {'..."
      ]
     },
     "execution_count": 103,
     "metadata": {},
     "output_type": "execute_result"
    }
   ],
   "source": [
    "df = pd.DataFrame(dict)\n",
    "df.head()"
   ]
  },
  {
   "cell_type": "code",
   "execution_count": 104,
   "id": "e5633cc1-3aa6-4da4-a62a-bc02293ec527",
   "metadata": {},
   "outputs": [
    {
     "data": {
      "text/plain": [
       "dict_keys(['saved_saved_media'])"
      ]
     },
     "execution_count": 104,
     "metadata": {},
     "output_type": "execute_result"
    }
   ],
   "source": [
    "dict.keys()"
   ]
  },
  {
   "cell_type": "code",
   "execution_count": 127,
   "id": "c4046284-cb80-41b3-9834-325f5a2e52b6",
   "metadata": {
    "scrolled": true
   },
   "outputs": [
    {
     "data": {
      "text/html": [
       "<div>\n",
       "<style scoped>\n",
       "    .dataframe tbody tr th:only-of-type {\n",
       "        vertical-align: middle;\n",
       "    }\n",
       "\n",
       "    .dataframe tbody tr th {\n",
       "        vertical-align: top;\n",
       "    }\n",
       "\n",
       "    .dataframe thead th {\n",
       "        text-align: right;\n",
       "    }\n",
       "</style>\n",
       "<table border=\"1\" class=\"dataframe\">\n",
       "  <thead>\n",
       "    <tr style=\"text-align: right;\">\n",
       "      <th></th>\n",
       "      <th>title</th>\n",
       "      <th>string_map_data</th>\n",
       "    </tr>\n",
       "  </thead>\n",
       "  <tbody>\n",
       "    <tr>\n",
       "      <th>0</th>\n",
       "      <td>deercleartt</td>\n",
       "      <td>{'Saved on': {'href': 'https://www.instagram.c...</td>\n",
       "    </tr>\n",
       "    <tr>\n",
       "      <th>1</th>\n",
       "      <td>velosbalkan</td>\n",
       "      <td>{'Saved on': {'href': 'https://www.instagram.c...</td>\n",
       "    </tr>\n",
       "    <tr>\n",
       "      <th>2</th>\n",
       "      <td>nagi_zoldyk</td>\n",
       "      <td>{'Saved on': {'href': 'https://www.instagram.c...</td>\n",
       "    </tr>\n",
       "    <tr>\n",
       "      <th>3</th>\n",
       "      <td>racing_incident</td>\n",
       "      <td>{'Saved on': {'href': 'https://www.instagram.c...</td>\n",
       "    </tr>\n",
       "    <tr>\n",
       "      <th>4</th>\n",
       "      <td>sudaraedits</td>\n",
       "      <td>{'Saved on': {'href': 'https://www.instagram.c...</td>\n",
       "    </tr>\n",
       "    <tr>\n",
       "      <th>5</th>\n",
       "      <td>digiwonn</td>\n",
       "      <td>{'Saved on': {'href': 'https://www.instagram.c...</td>\n",
       "    </tr>\n",
       "    <tr>\n",
       "      <th>6</th>\n",
       "      <td>akob3ll</td>\n",
       "      <td>{'Saved on': {'href': 'https://www.instagram.c...</td>\n",
       "    </tr>\n",
       "    <tr>\n",
       "      <th>7</th>\n",
       "      <td>sv5_cc</td>\n",
       "      <td>{'Saved on': {'href': 'https://www.instagram.c...</td>\n",
       "    </tr>\n",
       "    <tr>\n",
       "      <th>8</th>\n",
       "      <td>matte_2201</td>\n",
       "      <td>{'Saved on': {'href': 'https://www.instagram.c...</td>\n",
       "    </tr>\n",
       "    <tr>\n",
       "      <th>9</th>\n",
       "      <td>sixteenf1lms</td>\n",
       "      <td>{'Saved on': {'href': 'https://www.instagram.c...</td>\n",
       "    </tr>\n",
       "  </tbody>\n",
       "</table>\n",
       "</div>"
      ],
      "text/plain": [
       "             title                                    string_map_data\n",
       "0      deercleartt  {'Saved on': {'href': 'https://www.instagram.c...\n",
       "1      velosbalkan  {'Saved on': {'href': 'https://www.instagram.c...\n",
       "2      nagi_zoldyk  {'Saved on': {'href': 'https://www.instagram.c...\n",
       "3  racing_incident  {'Saved on': {'href': 'https://www.instagram.c...\n",
       "4      sudaraedits  {'Saved on': {'href': 'https://www.instagram.c...\n",
       "5         digiwonn  {'Saved on': {'href': 'https://www.instagram.c...\n",
       "6          akob3ll  {'Saved on': {'href': 'https://www.instagram.c...\n",
       "7           sv5_cc  {'Saved on': {'href': 'https://www.instagram.c...\n",
       "8       matte_2201  {'Saved on': {'href': 'https://www.instagram.c...\n",
       "9     sixteenf1lms  {'Saved on': {'href': 'https://www.instagram.c..."
      ]
     },
     "execution_count": 127,
     "metadata": {},
     "output_type": "execute_result"
    }
   ],
   "source": [
    "df_tidy = pd.DataFrame(dict['saved_saved_media'])\n",
    "df_tidy.head(10)"
   ]
  },
  {
   "cell_type": "code",
   "execution_count": 128,
   "id": "b9121976-b0f8-4606-b5ab-e8c30b9f5010",
   "metadata": {},
   "outputs": [
    {
     "data": {
      "text/plain": [
       "{'Saved on': {'href': 'https://www.instagram.com/reel/DNR9sZ0gLiD/',\n",
       "  'timestamp': 1755206806}}"
      ]
     },
     "execution_count": 128,
     "metadata": {},
     "output_type": "execute_result"
    }
   ],
   "source": [
    "df_tidy['string_map_data'].iloc[0]"
   ]
  },
  {
   "cell_type": "code",
   "execution_count": 157,
   "id": "fef6f4eb-9f73-428f-9d20-272895bc650f",
   "metadata": {},
   "outputs": [
    {
     "data": {
      "text/plain": [
       "dict"
      ]
     },
     "execution_count": 157,
     "metadata": {},
     "output_type": "execute_result"
    }
   ],
   "source": [
    "type(df_tidy['string_map_data'].iloc[0])\n"
   ]
  },
  {
   "cell_type": "code",
   "execution_count": 158,
   "id": "8704a200-b160-4fe8-bd8c-ab497a6dc736",
   "metadata": {
    "scrolled": true
   },
   "outputs": [
    {
     "data": {
      "text/plain": [
       "1"
      ]
     },
     "execution_count": 158,
     "metadata": {},
     "output_type": "execute_result"
    }
   ],
   "source": [
    "len(df_tidy['string_map_data'].iloc[0])"
   ]
  },
  {
   "cell_type": "code",
   "execution_count": 160,
   "id": "083a506f-5896-4ff8-82b9-4ccd2a73176a",
   "metadata": {},
   "outputs": [
    {
     "data": {
      "text/plain": [
       "{'Saved on': {'href': 'https://www.instagram.com/reel/DNR9sZ0gLiD/',\n",
       "  'timestamp': 1755206806}}"
      ]
     },
     "execution_count": 160,
     "metadata": {},
     "output_type": "execute_result"
    }
   ],
   "source": [
    "df_tidy['string_map_data'].iloc[0]\n"
   ]
  },
  {
   "cell_type": "code",
   "execution_count": 162,
   "id": "bb6bc1d1-49ef-4918-a562-6c6b2aeb0fea",
   "metadata": {},
   "outputs": [
    {
     "data": {
      "text/plain": [
       "1755206806"
      ]
     },
     "execution_count": 162,
     "metadata": {},
     "output_type": "execute_result"
    }
   ],
   "source": [
    "df_tidy['string_map_data'].iloc[0]['Saved on']['timestamp']"
   ]
  },
  {
   "cell_type": "code",
   "execution_count": 164,
   "id": "5e56a9a5-0d2e-4337-9aa4-7c0dcef6f031",
   "metadata": {},
   "outputs": [],
   "source": [
    "df_tidy['Time of Comment'] = [\n",
    "    list(i.values())[0]['timestamp'] for i in df_tidy['string_map_data']\n",
    "]"
   ]
  },
  {
   "cell_type": "code",
   "execution_count": 168,
   "id": "452390bd-e671-4bce-88f4-5ffe8b27bf82",
   "metadata": {
    "scrolled": true
   },
   "outputs": [],
   "source": [
    "# good to have\n",
    "from datetime import datetime\n",
    "\n",
    "df_tidy['Date of Comment'] = [\n",
    "    datetime.fromtimestamp(list(i.values())[0]['timestamp'])\n",
    "    for i in df_tidy['string_map_data']\n",
    "]\n"
   ]
  },
  {
   "cell_type": "code",
   "execution_count": 169,
   "id": "8753cb2c-ea8b-44ea-840a-690c3fee4181",
   "metadata": {},
   "outputs": [
    {
     "data": {
      "text/html": [
       "<div>\n",
       "<style scoped>\n",
       "    .dataframe tbody tr th:only-of-type {\n",
       "        vertical-align: middle;\n",
       "    }\n",
       "\n",
       "    .dataframe tbody tr th {\n",
       "        vertical-align: top;\n",
       "    }\n",
       "\n",
       "    .dataframe thead th {\n",
       "        text-align: right;\n",
       "    }\n",
       "</style>\n",
       "<table border=\"1\" class=\"dataframe\">\n",
       "  <thead>\n",
       "    <tr style=\"text-align: right;\">\n",
       "      <th></th>\n",
       "      <th>title</th>\n",
       "      <th>string_map_data</th>\n",
       "      <th>timestamp</th>\n",
       "      <th>href</th>\n",
       "      <th>Time of Comment</th>\n",
       "      <th>Date of Comment</th>\n",
       "    </tr>\n",
       "  </thead>\n",
       "  <tbody>\n",
       "    <tr>\n",
       "      <th>0</th>\n",
       "      <td>deercleartt</td>\n",
       "      <td>{'Saved on': {'href': 'https://www.instagram.c...</td>\n",
       "      <td>1755206806</td>\n",
       "      <td>https://www.instagram.com/reel/DNR9sZ0gLiD/</td>\n",
       "      <td>1755206806</td>\n",
       "      <td>2025-08-14 17:26:46</td>\n",
       "    </tr>\n",
       "    <tr>\n",
       "      <th>1</th>\n",
       "      <td>velosbalkan</td>\n",
       "      <td>{'Saved on': {'href': 'https://www.instagram.c...</td>\n",
       "      <td>1745868531</td>\n",
       "      <td>https://www.instagram.com/reel/DI9TMYqtq9X/</td>\n",
       "      <td>1745868531</td>\n",
       "      <td>2025-04-28 15:28:51</td>\n",
       "    </tr>\n",
       "    <tr>\n",
       "      <th>2</th>\n",
       "      <td>nagi_zoldyk</td>\n",
       "      <td>{'Saved on': {'href': 'https://www.instagram.c...</td>\n",
       "      <td>1743145672</td>\n",
       "      <td>https://www.instagram.com/reel/DDjbOrnxP1f/</td>\n",
       "      <td>1743145672</td>\n",
       "      <td>2025-03-28 03:07:52</td>\n",
       "    </tr>\n",
       "    <tr>\n",
       "      <th>3</th>\n",
       "      <td>racing_incident</td>\n",
       "      <td>{'Saved on': {'href': 'https://www.instagram.c...</td>\n",
       "      <td>1743040759</td>\n",
       "      <td>https://www.instagram.com/reel/DG6akBbC2CL/</td>\n",
       "      <td>1743040759</td>\n",
       "      <td>2025-03-26 21:59:19</td>\n",
       "    </tr>\n",
       "    <tr>\n",
       "      <th>4</th>\n",
       "      <td>sudaraedits</td>\n",
       "      <td>{'Saved on': {'href': 'https://www.instagram.c...</td>\n",
       "      <td>1743040751</td>\n",
       "      <td>https://www.instagram.com/reel/DC7BInryKIj/</td>\n",
       "      <td>1743040751</td>\n",
       "      <td>2025-03-26 21:59:11</td>\n",
       "    </tr>\n",
       "    <tr>\n",
       "      <th>5</th>\n",
       "      <td>digiwonn</td>\n",
       "      <td>{'Saved on': {'href': 'https://www.instagram.c...</td>\n",
       "      <td>1743040663</td>\n",
       "      <td>https://www.instagram.com/reel/DGV6-xMR9iF/</td>\n",
       "      <td>1743040663</td>\n",
       "      <td>2025-03-26 21:57:43</td>\n",
       "    </tr>\n",
       "    <tr>\n",
       "      <th>6</th>\n",
       "      <td>akob3ll</td>\n",
       "      <td>{'Saved on': {'href': 'https://www.instagram.c...</td>\n",
       "      <td>1743040638</td>\n",
       "      <td>https://www.instagram.com/reel/DEKAfeXRyrL/</td>\n",
       "      <td>1743040638</td>\n",
       "      <td>2025-03-26 21:57:18</td>\n",
       "    </tr>\n",
       "    <tr>\n",
       "      <th>7</th>\n",
       "      <td>sv5_cc</td>\n",
       "      <td>{'Saved on': {'href': 'https://www.instagram.c...</td>\n",
       "      <td>1743040614</td>\n",
       "      <td>https://www.instagram.com/reel/DHc1bQMugkn/</td>\n",
       "      <td>1743040614</td>\n",
       "      <td>2025-03-26 21:56:54</td>\n",
       "    </tr>\n",
       "    <tr>\n",
       "      <th>8</th>\n",
       "      <td>matte_2201</td>\n",
       "      <td>{'Saved on': {'href': 'https://www.instagram.c...</td>\n",
       "      <td>1743040582</td>\n",
       "      <td>https://www.instagram.com/reel/DHHjHu2tEVg/</td>\n",
       "      <td>1743040582</td>\n",
       "      <td>2025-03-26 21:56:22</td>\n",
       "    </tr>\n",
       "    <tr>\n",
       "      <th>9</th>\n",
       "      <td>sixteenf1lms</td>\n",
       "      <td>{'Saved on': {'href': 'https://www.instagram.c...</td>\n",
       "      <td>1743040478</td>\n",
       "      <td>https://www.instagram.com/reel/DFtS8P9uTty/</td>\n",
       "      <td>1743040478</td>\n",
       "      <td>2025-03-26 21:54:38</td>\n",
       "    </tr>\n",
       "  </tbody>\n",
       "</table>\n",
       "</div>"
      ],
      "text/plain": [
       "             title                                    string_map_data  \\\n",
       "0      deercleartt  {'Saved on': {'href': 'https://www.instagram.c...   \n",
       "1      velosbalkan  {'Saved on': {'href': 'https://www.instagram.c...   \n",
       "2      nagi_zoldyk  {'Saved on': {'href': 'https://www.instagram.c...   \n",
       "3  racing_incident  {'Saved on': {'href': 'https://www.instagram.c...   \n",
       "4      sudaraedits  {'Saved on': {'href': 'https://www.instagram.c...   \n",
       "5         digiwonn  {'Saved on': {'href': 'https://www.instagram.c...   \n",
       "6          akob3ll  {'Saved on': {'href': 'https://www.instagram.c...   \n",
       "7           sv5_cc  {'Saved on': {'href': 'https://www.instagram.c...   \n",
       "8       matte_2201  {'Saved on': {'href': 'https://www.instagram.c...   \n",
       "9     sixteenf1lms  {'Saved on': {'href': 'https://www.instagram.c...   \n",
       "\n",
       "    timestamp                                         href  Time of Comment  \\\n",
       "0  1755206806  https://www.instagram.com/reel/DNR9sZ0gLiD/       1755206806   \n",
       "1  1745868531  https://www.instagram.com/reel/DI9TMYqtq9X/       1745868531   \n",
       "2  1743145672  https://www.instagram.com/reel/DDjbOrnxP1f/       1743145672   \n",
       "3  1743040759  https://www.instagram.com/reel/DG6akBbC2CL/       1743040759   \n",
       "4  1743040751  https://www.instagram.com/reel/DC7BInryKIj/       1743040751   \n",
       "5  1743040663  https://www.instagram.com/reel/DGV6-xMR9iF/       1743040663   \n",
       "6  1743040638  https://www.instagram.com/reel/DEKAfeXRyrL/       1743040638   \n",
       "7  1743040614  https://www.instagram.com/reel/DHc1bQMugkn/       1743040614   \n",
       "8  1743040582  https://www.instagram.com/reel/DHHjHu2tEVg/       1743040582   \n",
       "9  1743040478  https://www.instagram.com/reel/DFtS8P9uTty/       1743040478   \n",
       "\n",
       "      Date of Comment  \n",
       "0 2025-08-14 17:26:46  \n",
       "1 2025-04-28 15:28:51  \n",
       "2 2025-03-28 03:07:52  \n",
       "3 2025-03-26 21:59:19  \n",
       "4 2025-03-26 21:59:11  \n",
       "5 2025-03-26 21:57:43  \n",
       "6 2025-03-26 21:57:18  \n",
       "7 2025-03-26 21:56:54  \n",
       "8 2025-03-26 21:56:22  \n",
       "9 2025-03-26 21:54:38  "
      ]
     },
     "execution_count": 169,
     "metadata": {},
     "output_type": "execute_result"
    }
   ],
   "source": [
    "df_tidy.head(10)"
   ]
  },
  {
   "cell_type": "code",
   "execution_count": 171,
   "id": "9a176d34-33bc-4d2d-8f56-bed6823a70d5",
   "metadata": {},
   "outputs": [],
   "source": [
    "df_tidy['href'] = [\n",
    "    list(i.values())[0]['href'] for i in df_tidy['string_map_data']\n",
    "]"
   ]
  },
  {
   "cell_type": "code",
   "execution_count": 172,
   "id": "83606151-e7f5-4081-8ecf-fd757bd0390b",
   "metadata": {},
   "outputs": [],
   "source": [
    "df_tidy['value'] = [\n",
    "    list(i.values())[0].get('value') for i in df_tidy['string_map_data']\n",
    "]"
   ]
  },
  {
   "cell_type": "code",
   "execution_count": 176,
   "id": "9026dbe4-2710-4dfd-95ac-a04de54ff9ae",
   "metadata": {},
   "outputs": [
    {
     "data": {
      "text/html": [
       "<div>\n",
       "<style scoped>\n",
       "    .dataframe tbody tr th:only-of-type {\n",
       "        vertical-align: middle;\n",
       "    }\n",
       "\n",
       "    .dataframe tbody tr th {\n",
       "        vertical-align: top;\n",
       "    }\n",
       "\n",
       "    .dataframe thead th {\n",
       "        text-align: right;\n",
       "    }\n",
       "</style>\n",
       "<table border=\"1\" class=\"dataframe\">\n",
       "  <thead>\n",
       "    <tr style=\"text-align: right;\">\n",
       "      <th></th>\n",
       "      <th>title</th>\n",
       "      <th>string_map_data</th>\n",
       "      <th>timestamp</th>\n",
       "      <th>href</th>\n",
       "      <th>Time of Comment</th>\n",
       "      <th>Date of Comment</th>\n",
       "      <th>value</th>\n",
       "    </tr>\n",
       "  </thead>\n",
       "  <tbody>\n",
       "    <tr>\n",
       "      <th>0</th>\n",
       "      <td>deercleartt</td>\n",
       "      <td>{'Saved on': {'href': 'https://www.instagram.c...</td>\n",
       "      <td>1755206806</td>\n",
       "      <td>https://www.instagram.com/reel/DNR9sZ0gLiD/</td>\n",
       "      <td>1755206806</td>\n",
       "      <td>2025-08-14 17:26:46</td>\n",
       "      <td>None</td>\n",
       "    </tr>\n",
       "    <tr>\n",
       "      <th>1</th>\n",
       "      <td>velosbalkan</td>\n",
       "      <td>{'Saved on': {'href': 'https://www.instagram.c...</td>\n",
       "      <td>1745868531</td>\n",
       "      <td>https://www.instagram.com/reel/DI9TMYqtq9X/</td>\n",
       "      <td>1745868531</td>\n",
       "      <td>2025-04-28 15:28:51</td>\n",
       "      <td>None</td>\n",
       "    </tr>\n",
       "    <tr>\n",
       "      <th>2</th>\n",
       "      <td>nagi_zoldyk</td>\n",
       "      <td>{'Saved on': {'href': 'https://www.instagram.c...</td>\n",
       "      <td>1743145672</td>\n",
       "      <td>https://www.instagram.com/reel/DDjbOrnxP1f/</td>\n",
       "      <td>1743145672</td>\n",
       "      <td>2025-03-28 03:07:52</td>\n",
       "      <td>None</td>\n",
       "    </tr>\n",
       "    <tr>\n",
       "      <th>3</th>\n",
       "      <td>racing_incident</td>\n",
       "      <td>{'Saved on': {'href': 'https://www.instagram.c...</td>\n",
       "      <td>1743040759</td>\n",
       "      <td>https://www.instagram.com/reel/DG6akBbC2CL/</td>\n",
       "      <td>1743040759</td>\n",
       "      <td>2025-03-26 21:59:19</td>\n",
       "      <td>None</td>\n",
       "    </tr>\n",
       "    <tr>\n",
       "      <th>4</th>\n",
       "      <td>sudaraedits</td>\n",
       "      <td>{'Saved on': {'href': 'https://www.instagram.c...</td>\n",
       "      <td>1743040751</td>\n",
       "      <td>https://www.instagram.com/reel/DC7BInryKIj/</td>\n",
       "      <td>1743040751</td>\n",
       "      <td>2025-03-26 21:59:11</td>\n",
       "      <td>None</td>\n",
       "    </tr>\n",
       "    <tr>\n",
       "      <th>5</th>\n",
       "      <td>digiwonn</td>\n",
       "      <td>{'Saved on': {'href': 'https://www.instagram.c...</td>\n",
       "      <td>1743040663</td>\n",
       "      <td>https://www.instagram.com/reel/DGV6-xMR9iF/</td>\n",
       "      <td>1743040663</td>\n",
       "      <td>2025-03-26 21:57:43</td>\n",
       "      <td>None</td>\n",
       "    </tr>\n",
       "    <tr>\n",
       "      <th>6</th>\n",
       "      <td>akob3ll</td>\n",
       "      <td>{'Saved on': {'href': 'https://www.instagram.c...</td>\n",
       "      <td>1743040638</td>\n",
       "      <td>https://www.instagram.com/reel/DEKAfeXRyrL/</td>\n",
       "      <td>1743040638</td>\n",
       "      <td>2025-03-26 21:57:18</td>\n",
       "      <td>None</td>\n",
       "    </tr>\n",
       "    <tr>\n",
       "      <th>7</th>\n",
       "      <td>sv5_cc</td>\n",
       "      <td>{'Saved on': {'href': 'https://www.instagram.c...</td>\n",
       "      <td>1743040614</td>\n",
       "      <td>https://www.instagram.com/reel/DHc1bQMugkn/</td>\n",
       "      <td>1743040614</td>\n",
       "      <td>2025-03-26 21:56:54</td>\n",
       "      <td>None</td>\n",
       "    </tr>\n",
       "    <tr>\n",
       "      <th>8</th>\n",
       "      <td>matte_2201</td>\n",
       "      <td>{'Saved on': {'href': 'https://www.instagram.c...</td>\n",
       "      <td>1743040582</td>\n",
       "      <td>https://www.instagram.com/reel/DHHjHu2tEVg/</td>\n",
       "      <td>1743040582</td>\n",
       "      <td>2025-03-26 21:56:22</td>\n",
       "      <td>None</td>\n",
       "    </tr>\n",
       "    <tr>\n",
       "      <th>9</th>\n",
       "      <td>sixteenf1lms</td>\n",
       "      <td>{'Saved on': {'href': 'https://www.instagram.c...</td>\n",
       "      <td>1743040478</td>\n",
       "      <td>https://www.instagram.com/reel/DFtS8P9uTty/</td>\n",
       "      <td>1743040478</td>\n",
       "      <td>2025-03-26 21:54:38</td>\n",
       "      <td>None</td>\n",
       "    </tr>\n",
       "  </tbody>\n",
       "</table>\n",
       "</div>"
      ],
      "text/plain": [
       "             title                                    string_map_data  \\\n",
       "0      deercleartt  {'Saved on': {'href': 'https://www.instagram.c...   \n",
       "1      velosbalkan  {'Saved on': {'href': 'https://www.instagram.c...   \n",
       "2      nagi_zoldyk  {'Saved on': {'href': 'https://www.instagram.c...   \n",
       "3  racing_incident  {'Saved on': {'href': 'https://www.instagram.c...   \n",
       "4      sudaraedits  {'Saved on': {'href': 'https://www.instagram.c...   \n",
       "5         digiwonn  {'Saved on': {'href': 'https://www.instagram.c...   \n",
       "6          akob3ll  {'Saved on': {'href': 'https://www.instagram.c...   \n",
       "7           sv5_cc  {'Saved on': {'href': 'https://www.instagram.c...   \n",
       "8       matte_2201  {'Saved on': {'href': 'https://www.instagram.c...   \n",
       "9     sixteenf1lms  {'Saved on': {'href': 'https://www.instagram.c...   \n",
       "\n",
       "    timestamp                                         href  Time of Comment  \\\n",
       "0  1755206806  https://www.instagram.com/reel/DNR9sZ0gLiD/       1755206806   \n",
       "1  1745868531  https://www.instagram.com/reel/DI9TMYqtq9X/       1745868531   \n",
       "2  1743145672  https://www.instagram.com/reel/DDjbOrnxP1f/       1743145672   \n",
       "3  1743040759  https://www.instagram.com/reel/DG6akBbC2CL/       1743040759   \n",
       "4  1743040751  https://www.instagram.com/reel/DC7BInryKIj/       1743040751   \n",
       "5  1743040663  https://www.instagram.com/reel/DGV6-xMR9iF/       1743040663   \n",
       "6  1743040638  https://www.instagram.com/reel/DEKAfeXRyrL/       1743040638   \n",
       "7  1743040614  https://www.instagram.com/reel/DHc1bQMugkn/       1743040614   \n",
       "8  1743040582  https://www.instagram.com/reel/DHHjHu2tEVg/       1743040582   \n",
       "9  1743040478  https://www.instagram.com/reel/DFtS8P9uTty/       1743040478   \n",
       "\n",
       "      Date of Comment value  \n",
       "0 2025-08-14 17:26:46  None  \n",
       "1 2025-04-28 15:28:51  None  \n",
       "2 2025-03-28 03:07:52  None  \n",
       "3 2025-03-26 21:59:19  None  \n",
       "4 2025-03-26 21:59:11  None  \n",
       "5 2025-03-26 21:57:43  None  \n",
       "6 2025-03-26 21:57:18  None  \n",
       "7 2025-03-26 21:56:54  None  \n",
       "8 2025-03-26 21:56:22  None  \n",
       "9 2025-03-26 21:54:38  None  "
      ]
     },
     "execution_count": 176,
     "metadata": {},
     "output_type": "execute_result"
    }
   ],
   "source": [
    "df_tidy.drop(columns = ['string_map_data']) \n",
    "df_tidy.head(10)"
   ]
  },
  {
   "cell_type": "code",
   "execution_count": 177,
   "id": "7adea7fd-6c03-445b-8fd8-dcd35f18c15d",
   "metadata": {},
   "outputs": [
    {
     "data": {
      "text/html": [
       "<div>\n",
       "<style scoped>\n",
       "    .dataframe tbody tr th:only-of-type {\n",
       "        vertical-align: middle;\n",
       "    }\n",
       "\n",
       "    .dataframe tbody tr th {\n",
       "        vertical-align: top;\n",
       "    }\n",
       "\n",
       "    .dataframe thead th {\n",
       "        text-align: right;\n",
       "    }\n",
       "</style>\n",
       "<table border=\"1\" class=\"dataframe\">\n",
       "  <thead>\n",
       "    <tr style=\"text-align: right;\">\n",
       "      <th></th>\n",
       "      <th>title</th>\n",
       "      <th>string_map_data</th>\n",
       "      <th>timestamp</th>\n",
       "      <th>href</th>\n",
       "      <th>Time of Comment</th>\n",
       "      <th>Date of Comment</th>\n",
       "      <th>value</th>\n",
       "    </tr>\n",
       "  </thead>\n",
       "  <tbody>\n",
       "    <tr>\n",
       "      <th>0</th>\n",
       "      <td>deercleartt</td>\n",
       "      <td>{'Saved on': {'href': 'https://www.instagram.c...</td>\n",
       "      <td>1755206806</td>\n",
       "      <td>https://www.instagram.com/reel/DNR9sZ0gLiD/</td>\n",
       "      <td>1755206806</td>\n",
       "      <td>2025-08-14 17:26:46</td>\n",
       "      <td>None</td>\n",
       "    </tr>\n",
       "    <tr>\n",
       "      <th>1</th>\n",
       "      <td>velosbalkan</td>\n",
       "      <td>{'Saved on': {'href': 'https://www.instagram.c...</td>\n",
       "      <td>1745868531</td>\n",
       "      <td>https://www.instagram.com/reel/DI9TMYqtq9X/</td>\n",
       "      <td>1745868531</td>\n",
       "      <td>2025-04-28 15:28:51</td>\n",
       "      <td>None</td>\n",
       "    </tr>\n",
       "    <tr>\n",
       "      <th>2</th>\n",
       "      <td>nagi_zoldyk</td>\n",
       "      <td>{'Saved on': {'href': 'https://www.instagram.c...</td>\n",
       "      <td>1743145672</td>\n",
       "      <td>https://www.instagram.com/reel/DDjbOrnxP1f/</td>\n",
       "      <td>1743145672</td>\n",
       "      <td>2025-03-28 03:07:52</td>\n",
       "      <td>None</td>\n",
       "    </tr>\n",
       "    <tr>\n",
       "      <th>3</th>\n",
       "      <td>racing_incident</td>\n",
       "      <td>{'Saved on': {'href': 'https://www.instagram.c...</td>\n",
       "      <td>1743040759</td>\n",
       "      <td>https://www.instagram.com/reel/DG6akBbC2CL/</td>\n",
       "      <td>1743040759</td>\n",
       "      <td>2025-03-26 21:59:19</td>\n",
       "      <td>None</td>\n",
       "    </tr>\n",
       "    <tr>\n",
       "      <th>4</th>\n",
       "      <td>sudaraedits</td>\n",
       "      <td>{'Saved on': {'href': 'https://www.instagram.c...</td>\n",
       "      <td>1743040751</td>\n",
       "      <td>https://www.instagram.com/reel/DC7BInryKIj/</td>\n",
       "      <td>1743040751</td>\n",
       "      <td>2025-03-26 21:59:11</td>\n",
       "      <td>None</td>\n",
       "    </tr>\n",
       "    <tr>\n",
       "      <th>5</th>\n",
       "      <td>digiwonn</td>\n",
       "      <td>{'Saved on': {'href': 'https://www.instagram.c...</td>\n",
       "      <td>1743040663</td>\n",
       "      <td>https://www.instagram.com/reel/DGV6-xMR9iF/</td>\n",
       "      <td>1743040663</td>\n",
       "      <td>2025-03-26 21:57:43</td>\n",
       "      <td>None</td>\n",
       "    </tr>\n",
       "    <tr>\n",
       "      <th>6</th>\n",
       "      <td>akob3ll</td>\n",
       "      <td>{'Saved on': {'href': 'https://www.instagram.c...</td>\n",
       "      <td>1743040638</td>\n",
       "      <td>https://www.instagram.com/reel/DEKAfeXRyrL/</td>\n",
       "      <td>1743040638</td>\n",
       "      <td>2025-03-26 21:57:18</td>\n",
       "      <td>None</td>\n",
       "    </tr>\n",
       "    <tr>\n",
       "      <th>7</th>\n",
       "      <td>sv5_cc</td>\n",
       "      <td>{'Saved on': {'href': 'https://www.instagram.c...</td>\n",
       "      <td>1743040614</td>\n",
       "      <td>https://www.instagram.com/reel/DHc1bQMugkn/</td>\n",
       "      <td>1743040614</td>\n",
       "      <td>2025-03-26 21:56:54</td>\n",
       "      <td>None</td>\n",
       "    </tr>\n",
       "    <tr>\n",
       "      <th>8</th>\n",
       "      <td>matte_2201</td>\n",
       "      <td>{'Saved on': {'href': 'https://www.instagram.c...</td>\n",
       "      <td>1743040582</td>\n",
       "      <td>https://www.instagram.com/reel/DHHjHu2tEVg/</td>\n",
       "      <td>1743040582</td>\n",
       "      <td>2025-03-26 21:56:22</td>\n",
       "      <td>None</td>\n",
       "    </tr>\n",
       "    <tr>\n",
       "      <th>9</th>\n",
       "      <td>sixteenf1lms</td>\n",
       "      <td>{'Saved on': {'href': 'https://www.instagram.c...</td>\n",
       "      <td>1743040478</td>\n",
       "      <td>https://www.instagram.com/reel/DFtS8P9uTty/</td>\n",
       "      <td>1743040478</td>\n",
       "      <td>2025-03-26 21:54:38</td>\n",
       "      <td>None</td>\n",
       "    </tr>\n",
       "  </tbody>\n",
       "</table>\n",
       "</div>"
      ],
      "text/plain": [
       "             title                                    string_map_data  \\\n",
       "0      deercleartt  {'Saved on': {'href': 'https://www.instagram.c...   \n",
       "1      velosbalkan  {'Saved on': {'href': 'https://www.instagram.c...   \n",
       "2      nagi_zoldyk  {'Saved on': {'href': 'https://www.instagram.c...   \n",
       "3  racing_incident  {'Saved on': {'href': 'https://www.instagram.c...   \n",
       "4      sudaraedits  {'Saved on': {'href': 'https://www.instagram.c...   \n",
       "5         digiwonn  {'Saved on': {'href': 'https://www.instagram.c...   \n",
       "6          akob3ll  {'Saved on': {'href': 'https://www.instagram.c...   \n",
       "7           sv5_cc  {'Saved on': {'href': 'https://www.instagram.c...   \n",
       "8       matte_2201  {'Saved on': {'href': 'https://www.instagram.c...   \n",
       "9     sixteenf1lms  {'Saved on': {'href': 'https://www.instagram.c...   \n",
       "\n",
       "    timestamp                                         href  Time of Comment  \\\n",
       "0  1755206806  https://www.instagram.com/reel/DNR9sZ0gLiD/       1755206806   \n",
       "1  1745868531  https://www.instagram.com/reel/DI9TMYqtq9X/       1745868531   \n",
       "2  1743145672  https://www.instagram.com/reel/DDjbOrnxP1f/       1743145672   \n",
       "3  1743040759  https://www.instagram.com/reel/DG6akBbC2CL/       1743040759   \n",
       "4  1743040751  https://www.instagram.com/reel/DC7BInryKIj/       1743040751   \n",
       "5  1743040663  https://www.instagram.com/reel/DGV6-xMR9iF/       1743040663   \n",
       "6  1743040638  https://www.instagram.com/reel/DEKAfeXRyrL/       1743040638   \n",
       "7  1743040614  https://www.instagram.com/reel/DHc1bQMugkn/       1743040614   \n",
       "8  1743040582  https://www.instagram.com/reel/DHHjHu2tEVg/       1743040582   \n",
       "9  1743040478  https://www.instagram.com/reel/DFtS8P9uTty/       1743040478   \n",
       "\n",
       "      Date of Comment value  \n",
       "0 2025-08-14 17:26:46  None  \n",
       "1 2025-04-28 15:28:51  None  \n",
       "2 2025-03-28 03:07:52  None  \n",
       "3 2025-03-26 21:59:19  None  \n",
       "4 2025-03-26 21:59:11  None  \n",
       "5 2025-03-26 21:57:43  None  \n",
       "6 2025-03-26 21:57:18  None  \n",
       "7 2025-03-26 21:56:54  None  \n",
       "8 2025-03-26 21:56:22  None  \n",
       "9 2025-03-26 21:54:38  None  "
      ]
     },
     "execution_count": 177,
     "metadata": {},
     "output_type": "execute_result"
    }
   ],
   "source": [
    "df_tidy.groupby('title').count().sort_values('Time of Comment', ascending = False)\n",
    "df_tidy.head(10)"
   ]
  },
  {
   "cell_type": "markdown",
   "id": "6b433c16-2926-428e-aded-0db027f1e15a",
   "metadata": {},
   "source": [
    "## Section 10"
   ]
  },
  {
   "cell_type": "markdown",
   "id": "03835775-f6e0-4421-938f-a73c5b317200",
   "metadata": {},
   "source": [
    "The information given from this data is in line with that of my hypothesis and proves that my saved posts are more about my interests than friends/personal relationships. It also stands by my assumption that out of my interests formula 1 would be the most saved within recent times."
   ]
  },
  {
   "cell_type": "code",
   "execution_count": null,
   "id": "dff35eac-1851-4375-af3a-e2f1293d9da1",
   "metadata": {},
   "outputs": [],
   "source": []
  }
 ],
 "metadata": {
  "kernelspec": {
   "display_name": "Python [conda env:base] *",
   "language": "python",
   "name": "conda-base-py"
  },
  "language_info": {
   "codemirror_mode": {
    "name": "ipython",
    "version": 3
   },
   "file_extension": ".py",
   "mimetype": "text/x-python",
   "name": "python",
   "nbconvert_exporter": "python",
   "pygments_lexer": "ipython3",
   "version": "3.13.5"
  }
 },
 "nbformat": 4,
 "nbformat_minor": 5
}
